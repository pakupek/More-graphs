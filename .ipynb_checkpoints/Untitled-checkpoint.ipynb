{
 "cells": [
  {
   "cell_type": "code",
   "execution_count": 50,
   "id": "3d0c29f9",
   "metadata": {},
   "outputs": [
    {
     "name": "stdout",
     "output_type": "stream",
     "text": [
      "[(1, 0.8480000000000001), (2, 1.024), (3, 1.2400000000000002), (4, 1.2640000000000002), (5, 1.4320000000000002), (6, 2.048), (7, 2.064), (8, 2.08), (9, 1.6480000000000001), (10, 1.64), (11, 1.46), (12, 1.7000000000000002)]\n"
     ]
    },
    {
     "data": {
      "text/plain": [
       "<AxesSubplot:xlabel='month'>"
      ]
     },
     "execution_count": 50,
     "metadata": {},
     "output_type": "execute_result"
    },
    {
     "data": {
      "image/png": "[encoded data removed]",
      "text/plain": [
       "<Figure size 432x288 with 1 Axes>"
      ]
     },
     "metadata": {
      "needs_background": "light"
     },
     "output_type": "display_data"
    }
   ],
   "source": [
    "import pandas as pd\n",
    "import matplotlib.pyplot as plt\n",
    "\n",
    "prices = [\n",
    "\t(1, 2.12),\n",
    "\t(2, 2.56),\n",
    "\t(3, 3.10),\n",
    "\t(4, 3.16),\n",
    "\t(5, 3.58),\n",
    "\t(6, 5.12),\n",
    "\t(7, 5.16),\n",
    "\t(8, 5.20),\n",
    "\t(9, 4.12),\n",
    "\t(10, 4.10),\n",
    "\t(11, 3.65),\n",
    "\t(12, 4.25),\n",
    "]\n",
    "month_series = pd.Series([1,2,3,4,5,6,7,8,9,10,11,12])\n",
    "price_series = pd.Series([2.12,2.56,3.10,3.16,3.58,5.12,5.16,5.20,4.12,4.10,3.65,4.25])\n",
    "price_series.index = month_series\n",
    "prices_USD = []\n",
    "for month,pln in zip(month_series,price_series):\n",
    "    prices_USD.append(tuple((month,pln*0.25)))\n",
    "    \n",
    "print(prices_USD)\n",
    "\n",
    "\n",
    "\n",
    "\n",
    "    \n",
    "                      \n",
    "\n",
    "\n",
    "\n",
    "df = pd.DataFrame(prices_USD, columns=[\"month\",\"priceUSD\"])\n",
    "df = df.set_index(\"month\")\n",
    "#prices_in_usd = df['pricesUSD'].apply(lambda pricesUSD: pricesUSD * 0.4)\n",
    "df.plot(style=\"k--\", label='month')\n"
   ]
  },
  {
   "cell_type": "code",
   "execution_count": null,
   "id": "7f14b184",
   "metadata": {},
   "outputs": [],
   "source": []
  }
 ],
 "metadata": {
  "kernelspec": {
   "display_name": "Python 3 (ipykernel)",
   "language": "python",
   "name": "python3"
  },
  "language_info": {
   "codemirror_mode": {
    "name": "ipython",
    "version": 3
   },
   "file_extension": ".py",
   "mimetype": "text/x-python",
   "name": "python",
   "nbconvert_exporter": "python",
   "pygments_lexer": "ipython3",
   "version": "3.9.13"
  }
 },
 "nbformat": 4,
 "nbformat_minor": 5
}
